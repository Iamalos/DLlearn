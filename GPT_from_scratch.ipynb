{
 "cells": [
  {
   "cell_type": "raw",
   "metadata": {},
   "source": [
    "---\n",
    "title: creating a GPT from scratch\n",
    "date: 2025-05-03\n",
    "description: following Andrej Karpathy video series\n",
    "categories: [code, DL, LLM]\n",
    "---"
   ]
  },
  {
   "cell_type": "code",
   "execution_count": 46,
   "metadata": {},
   "outputs": [],
   "source": [
    "#| default_exp bygram"
   ]
  },
  {
   "cell_type": "code",
   "execution_count": 2,
   "metadata": {
    "id": "yDLcQtHZoU9j"
   },
   "outputs": [],
   "source": [
    "#| echo false\n",
    "#| export\n",
    "from httpx import get as hget\n",
    "import torch\n",
    "import torch.nn as nn\n",
    "from torch.nn import functional as F\n",
    "torch.set_printoptions(linewidth=150)"
   ]
  },
  {
   "cell_type": "markdown",
   "metadata": {},
   "source": [
    "Hyperparameters"
   ]
  },
  {
   "cell_type": "code",
   "execution_count": 3,
   "metadata": {},
   "outputs": [],
   "source": [
    "#| export\n",
    "batch_size = 32 # how many independent sequences will be processed in parallel\n",
    "block_size = 8 # maximum context length for predictions\n",
    "max_iters = 3_000\n",
    "eval_interval = 300\n",
    "lr = 1e-2\n",
    "device = 'cuda' if torch.cuda.is_available() else 'cpu'\n",
    "eval_iters = 200\n",
    "torch.manual_seed(1337);"
   ]
  },
  {
   "cell_type": "markdown",
   "metadata": {},
   "source": [
    "Here we download sample dataset of Shakespear "
   ]
  },
  {
   "cell_type": "code",
   "execution_count": 4,
   "metadata": {
    "id": "aFqN4QyvoYAq"
   },
   "outputs": [],
   "source": [
    "#| export\n",
    "f = hget(\"https://raw.githubusercontent.com/karpathy/ng-video-lecture/refs/heads/master/input.txt\")\n",
    "text = f.text"
   ]
  },
  {
   "cell_type": "code",
   "execution_count": 5,
   "metadata": {
    "id": "aFqN4QyvoYAq"
   },
   "outputs": [
    {
     "name": "stdout",
     "output_type": "stream",
     "text": [
      "length of dataset in characters:  1115394\n"
     ]
    }
   ],
   "source": [
    "print(\"length of dataset in characters: \", len(text))"
   ]
  },
  {
   "cell_type": "code",
   "execution_count": 6,
   "metadata": {
    "colab": {
     "base_uri": "https://localhost:8080/"
    },
    "id": "MeRJlcDRplxX",
    "outputId": "0fd7d377-29b3-4c81-a183-63d4db129095",
    "scrolled": true
   },
   "outputs": [
    {
     "name": "stdout",
     "output_type": "stream",
     "text": [
      "First Citizen:\n",
      "Before we proceed any further, hear me speak.\n",
      "\n",
      "All:\n",
      "Speak, speak.\n",
      "\n",
      "First Citizen:\n",
      "You are all resolved rather to die than to famish?\n",
      "\n",
      "All:\n",
      "Resolved. resolved.\n",
      "\n",
      "First Citizen:\n",
      "First, you know Caius Marcius is chief enemy to the people.\n",
      "\n",
      "All:\n",
      "We know't, we know't.\n",
      "\n",
      "First Citizen:\n",
      "Let us kill him, and we'll have corn at our own price.\n",
      "Is't a verdict?\n",
      "\n",
      "All:\n",
      "No more talking on't; let it be done: away, away!\n",
      "\n",
      "Second Citizen:\n",
      "One word, good citizens.\n",
      "\n",
      "First Citizen:\n",
      "We are accounted poor\n"
     ]
    }
   ],
   "source": [
    "# let's look at the first 1000 characters\n",
    "print(text[:500])"
   ]
  },
  {
   "cell_type": "markdown",
   "metadata": {},
   "source": [
    "Here are all the unique characters that occur in this text"
   ]
  },
  {
   "cell_type": "code",
   "execution_count": 47,
   "metadata": {
    "colab": {
     "base_uri": "https://localhost:8080/"
    },
    "id": "I0v1nYgkqjGj",
    "outputId": "1dcabf13-1553-42aa-9780-ef8cf6f5aecf"
   },
   "outputs": [],
   "source": [
    "#| export\n",
    "chars = sorted(list(set(text)))\n",
    "vocab_size=  len(chars)"
   ]
  },
  {
   "cell_type": "code",
   "execution_count": 48,
   "metadata": {
    "colab": {
     "base_uri": "https://localhost:8080/"
    },
    "id": "I0v1nYgkqjGj",
    "outputId": "1dcabf13-1553-42aa-9780-ef8cf6f5aecf"
   },
   "outputs": [
    {
     "name": "stdout",
     "output_type": "stream",
     "text": [
      "\n",
      " !$&',-.3:;?ABCDEFGHIJKLMNOPQRSTUVWXYZabcdefghijklmnopqrstuvwxyz\n",
      "65\n"
     ]
    }
   ],
   "source": [
    "print(''.join(chars))\n",
    "print(vocab_size)"
   ]
  },
  {
   "cell_type": "markdown",
   "metadata": {},
   "source": [
    "Create a mapping from characters to integers"
   ]
  },
  {
   "cell_type": "code",
   "execution_count": 49,
   "metadata": {
    "colab": {
     "base_uri": "https://localhost:8080/"
    },
    "id": "l1IZ5gB6q11P",
    "outputId": "b7f6700d-4bcd-4fbb-b4eb-01adacc6cb99"
   },
   "outputs": [],
   "source": [
    "#| export\n",
    "stoi = {ch:i for i,ch in enumerate(chars)}\n",
    "itos = {i:ch for ch, i in stoi.items()}\n",
    "encode = lambda s: [stoi[c] for c in s] # encoder: take a string and output a list of integers\n",
    "decode = lambda l: ''.join((itos[o] for o in l) )# decoder: take a list of integers and output a string"
   ]
  },
  {
   "cell_type": "code",
   "execution_count": 10,
   "metadata": {
    "colab": {
     "base_uri": "https://localhost:8080/"
    },
    "id": "l1IZ5gB6q11P",
    "outputId": "b7f6700d-4bcd-4fbb-b4eb-01adacc6cb99"
   },
   "outputs": [
    {
     "name": "stdout",
     "output_type": "stream",
     "text": [
      "[46, 47, 47, 1, 58, 46, 43, 56, 43]\n",
      "hii there\n"
     ]
    }
   ],
   "source": [
    "print(encode(\"hii there\"))\n",
    "print(decode(encode(\"hii there\")))"
   ]
  },
  {
   "cell_type": "markdown",
   "metadata": {},
   "source": [
    "Let's encode the whole text dataset and store it into a torch.Tensor"
   ]
  },
  {
   "cell_type": "code",
   "execution_count": 50,
   "metadata": {
    "colab": {
     "base_uri": "https://localhost:8080/"
    },
    "id": "qvPfB_2ar1wX",
    "outputId": "f90c5c7a-61de-40f2-9903-8f56b0a0f1cb"
   },
   "outputs": [],
   "source": [
    "#| export\n",
    "data = torch.tensor(encode(text), dtype=torch.long)"
   ]
  },
  {
   "cell_type": "code",
   "execution_count": 12,
   "metadata": {
    "colab": {
     "base_uri": "https://localhost:8080/"
    },
    "collapsed": true,
    "id": "qvPfB_2ar1wX",
    "jupyter": {
     "outputs_hidden": true
    },
    "outputId": "f90c5c7a-61de-40f2-9903-8f56b0a0f1cb"
   },
   "outputs": [
    {
     "name": "stdout",
     "output_type": "stream",
     "text": [
      "torch.Size([1115394]) torch.int64\n",
      "tensor([18, 47, 56, 57, 58,  1, 15, 47, 58, 47, 64, 43, 52, 10,  0, 14, 43, 44, 53, 56, 43,  1, 61, 43,  1, 54, 56, 53, 41, 43, 43, 42,  1, 39, 52,\n",
      "        63,  1, 44, 59, 56, 58, 46, 43, 56,  6,  1, 46, 43, 39, 56,  1, 51, 43,  1, 57, 54, 43, 39, 49,  8,  0,  0, 13, 50, 50, 10,  0, 31, 54, 43,\n",
      "        39, 49,  6,  1, 57, 54, 43, 39, 49,  8,  0,  0, 18, 47, 56, 57, 58,  1, 15, 47, 58, 47, 64, 43, 52, 10,  0, 37, 53, 59])\n"
     ]
    }
   ],
   "source": [
    "print(data.shape, data.dtype)\n",
    "print(data[:100]) # the 1000 characters we looked at earlier will look to GPT like this)"
   ]
  },
  {
   "cell_type": "markdown",
   "metadata": {},
   "source": [
    "Split data into training (90%) and validation sets"
   ]
  },
  {
   "cell_type": "code",
   "execution_count": 13,
   "metadata": {
    "colab": {
     "base_uri": "https://localhost:8080/"
    },
    "id": "ToM5eVNntI6J",
    "outputId": "47ceff57-c78b-434f-85b2-ad20208a7768"
   },
   "outputs": [],
   "source": [
    "#| export\n",
    "n = int(0.9*len(data)) # first 90% will be train, rest val\n",
    "train_data = data[:n]\n",
    "val_data = data[n:]"
   ]
  },
  {
   "cell_type": "code",
   "execution_count": 14,
   "metadata": {
    "colab": {
     "base_uri": "https://localhost:8080/"
    },
    "id": "ToM5eVNntI6J",
    "outputId": "47ceff57-c78b-434f-85b2-ad20208a7768"
   },
   "outputs": [
    {
     "name": "stdout",
     "output_type": "stream",
     "text": [
      "1003854\n",
      "111540\n"
     ]
    }
   ],
   "source": [
    "print(len(train_data))\n",
    "print(len(val_data))"
   ]
  },
  {
   "cell_type": "code",
   "execution_count": 15,
   "metadata": {
    "colab": {
     "base_uri": "https://localhost:8080/"
    },
    "id": "XAwWXm86tJP6",
    "outputId": "1bd328f0-617a-4dc6-d63d-1275a4789381"
   },
   "outputs": [
    {
     "data": {
      "text/plain": [
       "tensor([18, 47, 56, 57, 58,  1, 15, 47, 58])"
      ]
     },
     "execution_count": 15,
     "metadata": {},
     "output_type": "execute_result"
    }
   ],
   "source": [
    "block_size = 8\n",
    "train_data[:block_size+1]"
   ]
  },
  {
   "cell_type": "code",
   "execution_count": 16,
   "metadata": {
    "colab": {
     "base_uri": "https://localhost:8080/"
    },
    "id": "1YXIe4sgtKoj",
    "outputId": "a161aff6-fcf7-4767-9827-d0c4c8970d1d"
   },
   "outputs": [
    {
     "name": "stdout",
     "output_type": "stream",
     "text": [
      "When input is tensor([18]) the target : 47\n",
      "When input is tensor([18, 47]) the target : 56\n",
      "When input is tensor([18, 47, 56]) the target : 57\n",
      "When input is tensor([18, 47, 56, 57]) the target : 58\n",
      "When input is tensor([18, 47, 56, 57, 58]) the target : 1\n",
      "When input is tensor([18, 47, 56, 57, 58,  1]) the target : 15\n",
      "When input is tensor([18, 47, 56, 57, 58,  1, 15]) the target : 47\n",
      "When input is tensor([18, 47, 56, 57, 58,  1, 15, 47]) the target : 58\n"
     ]
    }
   ],
   "source": [
    "x = train_data[:block_size]\n",
    "y = train_data[1:block_size+1]\n",
    "for t in  range(block_size):\n",
    "    context = x[:t+1]\n",
    "    target = y[t]\n",
    "    print(f\"When input is {context} the target : {target}\")"
   ]
  },
  {
   "cell_type": "code",
   "execution_count": 17,
   "metadata": {
    "colab": {
     "base_uri": "https://localhost:8080/"
    },
    "id": "nHNbYNhuwJnX",
    "outputId": "efb551c0-0da8-4a6a-8a57-4be5aeabb2cb",
    "scrolled": true
   },
   "outputs": [],
   "source": [
    "torch.manual_seed(1337)\n",
    "batch_size = 4 # number of independent sequences we process in parallel\n",
    "block_size = 8 # maximum context length for predictions"
   ]
  },
  {
   "cell_type": "code",
   "execution_count": 18,
   "metadata": {
    "colab": {
     "base_uri": "https://localhost:8080/"
    },
    "id": "nHNbYNhuwJnX",
    "outputId": "efb551c0-0da8-4a6a-8a57-4be5aeabb2cb",
    "scrolled": true
   },
   "outputs": [],
   "source": [
    "#| export\n",
    "def get_batch(split):\n",
    "    # generate a small batch of data of inputs x and targets y\n",
    "    data = train_data if split == \"train\" else val_data\n",
    "    ix = torch.randint(0, len(data)-block_size, (batch_size,))\n",
    "    x = torch.stack([data[i:i+block_size] for i in ix])\n",
    "    y = torch.stack([data[i+1:i+block_size+1] for i in ix])\n",
    "    x,y = x.to(device), y.to(device)\n",
    "    return x, y"
   ]
  },
  {
   "cell_type": "code",
   "execution_count": 19,
   "metadata": {
    "colab": {
     "base_uri": "https://localhost:8080/"
    },
    "collapsed": true,
    "id": "nHNbYNhuwJnX",
    "jupyter": {
     "outputs_hidden": true
    },
    "outputId": "efb551c0-0da8-4a6a-8a57-4be5aeabb2cb",
    "scrolled": true
   },
   "outputs": [
    {
     "name": "stdout",
     "output_type": "stream",
     "text": [
      "inputs:\n",
      "torch.Size([4, 8])\n",
      "tensor([[24, 43, 58,  5, 57,  1, 46, 43],\n",
      "        [44, 53, 56,  1, 58, 46, 39, 58],\n",
      "        [52, 58,  1, 58, 46, 39, 58,  1],\n",
      "        [25, 17, 27, 10,  0, 21,  1, 54]], device='cuda:0') \n",
      "\n",
      "targets:\n",
      "torch.Size([4, 8])\n",
      "tensor([[43, 58,  5, 57,  1, 46, 43, 39],\n",
      "        [53, 56,  1, 58, 46, 39, 58,  1],\n",
      "        [58,  1, 58, 46, 39, 58,  1, 46],\n",
      "        [17, 27, 10,  0, 21,  1, 54, 39]], device='cuda:0')\n",
      "----\n",
      "When input is [24] the target : 43\n",
      "When input is [24, 43] the target : 58\n",
      "When input is [24, 43, 58] the target : 5\n",
      "When input is [24, 43, 58, 5] the target : 57\n",
      "When input is [24, 43, 58, 5, 57] the target : 1\n",
      "When input is [24, 43, 58, 5, 57, 1] the target : 46\n",
      "When input is [24, 43, 58, 5, 57, 1, 46] the target : 43\n",
      "When input is [24, 43, 58, 5, 57, 1, 46, 43] the target : 39\n",
      "When input is [44] the target : 53\n",
      "When input is [44, 53] the target : 56\n",
      "When input is [44, 53, 56] the target : 1\n",
      "When input is [44, 53, 56, 1] the target : 58\n",
      "When input is [44, 53, 56, 1, 58] the target : 46\n",
      "When input is [44, 53, 56, 1, 58, 46] the target : 39\n",
      "When input is [44, 53, 56, 1, 58, 46, 39] the target : 58\n",
      "When input is [44, 53, 56, 1, 58, 46, 39, 58] the target : 1\n",
      "When input is [52] the target : 58\n",
      "When input is [52, 58] the target : 1\n",
      "When input is [52, 58, 1] the target : 58\n",
      "When input is [52, 58, 1, 58] the target : 46\n",
      "When input is [52, 58, 1, 58, 46] the target : 39\n",
      "When input is [52, 58, 1, 58, 46, 39] the target : 58\n",
      "When input is [52, 58, 1, 58, 46, 39, 58] the target : 1\n",
      "When input is [52, 58, 1, 58, 46, 39, 58, 1] the target : 46\n",
      "When input is [25] the target : 17\n",
      "When input is [25, 17] the target : 27\n",
      "When input is [25, 17, 27] the target : 10\n",
      "When input is [25, 17, 27, 10] the target : 0\n",
      "When input is [25, 17, 27, 10, 0] the target : 21\n",
      "When input is [25, 17, 27, 10, 0, 21] the target : 1\n",
      "When input is [25, 17, 27, 10, 0, 21, 1] the target : 54\n",
      "When input is [25, 17, 27, 10, 0, 21, 1, 54] the target : 39\n"
     ]
    }
   ],
   "source": [
    "xb, yb = get_batch('train')\n",
    "\n",
    "print('inputs:')\n",
    "print(xb.shape)\n",
    "print(xb,'\\n')\n",
    "print('targets:')\n",
    "print(yb.shape)\n",
    "print(yb)\n",
    "\n",
    "print('----')\n",
    "\n",
    "for b in range(batch_size):\n",
    "    for t in range(block_size):\n",
    "        context = xb[b,:t+1]\n",
    "        target = yb[b,t]\n",
    "        print(f\"When input is {context.tolist()} the target : {target}\")"
   ]
  },
  {
   "cell_type": "markdown",
   "metadata": {
    "id": "eTxwYlf-1pN1"
   },
   "source": [
    "So each batch of 4 yields 32 examples (3 * 8)"
   ]
  },
  {
   "cell_type": "code",
   "execution_count": 20,
   "metadata": {
    "colab": {
     "base_uri": "https://localhost:8080/"
    },
    "id": "SZEca_vYyP94",
    "outputId": "51c76f31-8dc9-451d-b248-19e5998c9f26"
   },
   "outputs": [
    {
     "name": "stdout",
     "output_type": "stream",
     "text": [
      "tensor([[24, 43, 58,  5, 57,  1, 46, 43],\n",
      "        [44, 53, 56,  1, 58, 46, 39, 58],\n",
      "        [52, 58,  1, 58, 46, 39, 58,  1],\n",
      "        [25, 17, 27, 10,  0, 21,  1, 54]], device='cuda:0')\n"
     ]
    }
   ],
   "source": [
    "print(xb)"
   ]
  },
  {
   "cell_type": "code",
   "execution_count": 21,
   "metadata": {
    "colab": {
     "base_uri": "https://localhost:8080/"
    },
    "id": "MVMdlmDO1lkO",
    "outputId": "9e3f4814-0eca-4bc8-d6b8-bb9a3675ed34"
   },
   "outputs": [],
   "source": [
    "torch.manual_seed(1337);"
   ]
  },
  {
   "cell_type": "code",
   "execution_count": 22,
   "metadata": {
    "colab": {
     "base_uri": "https://localhost:8080/"
    },
    "id": "MVMdlmDO1lkO",
    "outputId": "9e3f4814-0eca-4bc8-d6b8-bb9a3675ed34"
   },
   "outputs": [],
   "source": [
    "#| export\n",
    "class BigramLanguageModel(nn.Module):\n",
    "\n",
    "    def __init__(self, vocab_size):\n",
    "        super().__init__()\n",
    "        # each token directly reads off the logits for the next token from a lookup table\n",
    "        self.token_embedding_table = nn.Embedding(vocab_size, vocab_size)\n",
    "\n",
    "    def forward(self, idx, targets=None):\n",
    "\n",
    "        # idx and targets are both (B, T) tensor of integers\n",
    "        logits = self.token_embedding_table(idx) # (B, T, C)\n",
    "\n",
    "        if targets is None:\n",
    "            loss = None\n",
    "        else:\n",
    "            B, T, C = logits.shape\n",
    "            logits = logits.view(B*T, C)\n",
    "            target = targets.view(B*T)\n",
    "            loss = F.cross_entropy(logits, target)\n",
    "\n",
    "        return logits, loss\n",
    "\n",
    "    def generate(self, idx, max_new_tokens):\n",
    "        # idx is (B, T) array of indices in the current context\n",
    "        for _ in range(max_new_tokens):\n",
    "            # get the predictions\n",
    "            logits, loss = self(idx)\n",
    "            # focus only on the last time step (in forward pass logits retain original shape (no .view))\n",
    "            logits = logits[:,-1,:] # becomes (B, C)\n",
    "            # apply softmax to get probabilities\n",
    "            probs = F.softmax(logits, dim=-1) # (B, C)\n",
    "            # sample from the distribution\n",
    "            idx_next = torch.multinomial(probs, num_samples=1) # (B, 1)\n",
    "            # append sampled index to the running sequence\n",
    "            idx = torch.cat((idx, idx_next), dim=1) # (B, T+1)\n",
    "            # print(idx.shape)\n",
    "        return idx\n",
    "\n",
    "model = BigramLanguageModel(vocab_size).to(device)"
   ]
  },
  {
   "cell_type": "markdown",
   "metadata": {},
   "source": [
    "Function to estimate the loss by averaging over `eval_iters`"
   ]
  },
  {
   "cell_type": "code",
   "execution_count": 35,
   "metadata": {},
   "outputs": [
    {
     "data": {
      "text/plain": [
       "200"
      ]
     },
     "execution_count": 35,
     "metadata": {},
     "output_type": "execute_result"
    }
   ],
   "source": [
    "eval_iters"
   ]
  },
  {
   "cell_type": "code",
   "execution_count": 36,
   "metadata": {},
   "outputs": [],
   "source": [
    "#|export\n",
    "@torch.no_grad()\n",
    "def estimate_loss():\n",
    "    out = {}\n",
    "    model.eval()\n",
    "    for split in ['train', 'val']:\n",
    "        losses = torch.zeros(eval_iters)\n",
    "        for k in range(eval_iters):\n",
    "            X, Y = get_batch(split)\n",
    "            logits, loss = model(X, Y)\n",
    "            losses[k] = loss.item()\n",
    "        out[split] = losses.mean()\n",
    "    model.train()\n",
    "    return out"
   ]
  },
  {
   "cell_type": "code",
   "execution_count": 31,
   "metadata": {},
   "outputs": [
    {
     "data": {
      "text/plain": [
       "(tensor([[24, 43, 58,  5, 57,  1, 46, 43],\n",
       "         [44, 53, 56,  1, 58, 46, 39, 58],\n",
       "         [52, 58,  1, 58, 46, 39, 58,  1],\n",
       "         [25, 17, 27, 10,  0, 21,  1, 54]], device='cuda:0'),\n",
       " tensor([[43, 58,  5, 57,  1, 46, 43, 39],\n",
       "         [53, 56,  1, 58, 46, 39, 58,  1],\n",
       "         [58,  1, 58, 46, 39, 58,  1, 46],\n",
       "         [17, 27, 10,  0, 21,  1, 54, 39]], device='cuda:0'))"
      ]
     },
     "execution_count": 31,
     "metadata": {},
     "output_type": "execute_result"
    }
   ],
   "source": [
    "xb,yb"
   ]
  },
  {
   "cell_type": "code",
   "execution_count": 26,
   "metadata": {
    "colab": {
     "base_uri": "https://localhost:8080/"
    },
    "id": "MVMdlmDO1lkO",
    "outputId": "9e3f4814-0eca-4bc8-d6b8-bb9a3675ed34"
   },
   "outputs": [
    {
     "name": "stdout",
     "output_type": "stream",
     "text": [
      "logits.shape=torch.Size([32, 65])\n",
      "loss=tensor(4.8786, device='cuda:0', grad_fn=<NllLossBackward0>)\n",
      "\n",
      "pYCXxfRkRZd\n",
      "wc'wfNfT;OLlTEeC K\n",
      "jxqPToTb?bXAUG:C-SGJO-33SM:C?YI3a\n",
      "hs:LVXJFhXeNuwqhObxZ.tSVrddXlaSZaNe\n"
     ]
    }
   ],
   "source": [
    "logits, loss = model(xb, yb)\n",
    "print(f'{logits.shape=}')\n",
    "print(f'{loss=}')\n",
    "\n",
    "print(decode(model.generate(torch.zeros((1, 1), dtype=torch.long).to(device), max_new_tokens=100)[0].tolist()))"
   ]
  },
  {
   "cell_type": "code",
   "execution_count": 27,
   "metadata": {
    "colab": {
     "base_uri": "https://localhost:8080/"
    },
    "id": "9EPa3es6BSHn",
    "outputId": "8df7cc9a-12b1-4c5b-cb47-fcd0b38c360d"
   },
   "outputs": [
    {
     "name": "stdout",
     "output_type": "stream",
     "text": [
      "\n",
      "y'Td&ylviMXG,&yxJGF$SAUGX!UZgmV'jxmju\n",
      "I?OFWKoi\n",
      "jb\n",
      "3regmS$Y'nz-TrLQb$V&vVV&vVYo'pFtxqV'hZOp,V,ivv&?ph\n"
     ]
    }
   ],
   "source": [
    "print(decode(model.generate(torch.zeros((4, 1), dtype=torch.long).to(device), max_new_tokens=100)[2].tolist()))"
   ]
  },
  {
   "cell_type": "markdown",
   "metadata": {},
   "source": [
    "Create a PyTorch optimizer, using AdamW"
   ]
  },
  {
   "cell_type": "code",
   "execution_count": 53,
   "metadata": {
    "id": "drRR9gUfCR0U"
   },
   "outputs": [],
   "source": [
    "#| export\n",
    "optimizer = torch.optim.AdamW(model.parameters(), lr=lr)"
   ]
  },
  {
   "cell_type": "code",
   "execution_count": 29,
   "metadata": {},
   "outputs": [],
   "source": [
    "batch_size = 32"
   ]
  },
  {
   "cell_type": "code",
   "execution_count": 43,
   "metadata": {
    "colab": {
     "base_uri": "https://localhost:8080/"
    },
    "id": "I5TV_JRdDGuU",
    "outputId": "41e0b2c5-a808-43a5-fa0a-6e885be978ad"
   },
   "outputs": [
    {
     "name": "stdout",
     "output_type": "stream",
     "text": [
      "step 0: train loss 2.4619, val loss 2.4901\n",
      "step 300: train loss 2.4678, val loss 2.4798\n",
      "step 600: train loss 2.4545, val loss 2.4900\n",
      "step 900: train loss 2.4679, val loss 2.4913\n",
      "step 1200: train loss 2.4623, val loss 2.4912\n",
      "step 1500: train loss 2.4547, val loss 2.4797\n",
      "step 1800: train loss 2.4545, val loss 2.4846\n",
      "step 2100: train loss 2.4594, val loss 2.4923\n",
      "step 2400: train loss 2.4617, val loss 2.4928\n",
      "step 2700: train loss 2.4671, val loss 2.4794\n"
     ]
    }
   ],
   "source": [
    "#| export\n",
    "for iter in range(max_iters):\n",
    "   \n",
    "    # evaluate loss on train and val sets once in a while\n",
    "    if iter % eval_interval == 0:\n",
    "        losses = estimate_loss()\n",
    "        print(f\"step {iter}: train loss {losses['train']:.4f}, val loss {losses['val']:.4f}\")\n",
    "\n",
    "    # sample a batch of data\n",
    "    xb, yb = get_batch('train')\n",
    "\n",
    "    # evaluate the loss\n",
    "    logits, loss = model(xb, yb)\n",
    "    optimizer.zero_grad(set_to_none=True)\n",
    "    loss.backward()\n",
    "    optimizer.step()"
   ]
  },
  {
   "cell_type": "code",
   "execution_count": 44,
   "metadata": {},
   "outputs": [
    {
     "name": "stdout",
     "output_type": "stream",
     "text": [
      "\n",
      "Men pand, bemary.\n",
      "Yof 'Wour meam sora anghy t-e nomes the men.\n",
      "Wand s st sulin s th llety ome.\n",
      "I muco ffepyotssthecas l.\n",
      "TAn.\n",
      "Mourethapeintherse ed Pe bene oveveaimout?\n",
      "\n",
      "\n",
      "\n",
      "AMPe cok hedin tie s indo he be fe f tas ny, ct Clo ghasundisthou ld, he n, soxcone.\n",
      "\n",
      "NENobeakes aghercobun ws m s s withoumas F\n"
     ]
    }
   ],
   "source": [
    "#| export\n",
    "context = torch.zeros((1, 1), dtype=torch.long, device=device)\n",
    "print(decode(model.generate(context, max_new_tokens=300)[0].tolist()))"
   ]
  },
  {
   "cell_type": "code",
   "execution_count": 52,
   "metadata": {},
   "outputs": [],
   "source": [
    "from nbdev.export import nb_export\n",
    "nb_export('GPT_from_scratch.ipynb')"
   ]
  },
  {
   "cell_type": "code",
   "execution_count": null,
   "metadata": {},
   "outputs": [],
   "source": []
  }
 ],
 "metadata": {
  "colab": {
   "provenance": []
  },
  "kernelspec": {
   "display_name": "Python 3 (ipykernel)",
   "language": "python",
   "name": "python3"
  },
  "language_info": {
   "codemirror_mode": {
    "name": "ipython",
    "version": 3
   },
   "file_extension": ".py",
   "mimetype": "text/x-python",
   "name": "python",
   "nbconvert_exporter": "python",
   "pygments_lexer": "ipython3",
   "version": "3.12.8"
  }
 },
 "nbformat": 4,
 "nbformat_minor": 4
}
